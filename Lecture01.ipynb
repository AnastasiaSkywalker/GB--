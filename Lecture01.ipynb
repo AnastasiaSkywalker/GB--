{
  "cells": [
    {
      "cell_type": "markdown",
      "metadata": {
        "id": "view-in-github",
        "colab_type": "text"
      },
      "source": [
        "<a href=\"https://colab.research.google.com/github/AnastasiaSkywalker/GB--/blob/main/Lecture01.ipynb\" target=\"_parent\"><img src=\"https://colab.research.google.com/assets/colab-badge.svg\" alt=\"Open In Colab\"/></a>"
      ]
    },
    {
      "cell_type": "markdown",
      "metadata": {
        "id": "w67aHZvekts8"
      },
      "source": [
        "## Вспомним map-reduce\n",
        "\n",
        "Давайте напишем простые маппер и редьюсер для подсчета числа слов в файле."
      ]
    },
    {
      "cell_type": "code",
      "execution_count": 20,
      "metadata": {
        "colab": {
          "base_uri": "https://localhost:8080/"
        },
        "id": "DZ7lowJRkttG",
        "outputId": "3c1a633d-50da-4099-8972-247b6ee5dd0a"
      },
      "outputs": [
        {
          "output_type": "stream",
          "name": "stdout",
          "text": [
            "Overwriting mapper.py\n"
          ]
        }
      ],
      "source": [
        "%%writefile mapper.py\n",
        "\n",
        "import sys\n",
        "\n",
        "def mapper():\n",
        "    for line in sys.stdin:\n",
        "        line = line.strip()\n",
        "        words = line.split()\n",
        "        for word in words:\n",
        "            sys.stdout.write(\"{}\\t{}\\n\".format(word, 1))\n",
        "            \n",
        "if __name__ == \"__main__\":\n",
        "    mapper()"
      ]
    },
    {
      "cell_type": "code",
      "execution_count": 21,
      "metadata": {
        "colab": {
          "base_uri": "https://localhost:8080/"
        },
        "id": "fYI9FEjYkttS",
        "outputId": "0d1e3bd5-a9b3-4d8d-ec7f-039dc6bc6a36"
      },
      "outputs": [
        {
          "output_type": "stream",
          "name": "stdout",
          "text": [
            "Overwriting reducer.py\n"
          ]
        }
      ],
      "source": [
        "%%writefile reducer.py\n",
        "\n",
        "import sys\n",
        "\n",
        "def reduce():\n",
        "    prev_key = None\n",
        "    counter = 0\n",
        "    for line in sys.stdin:\n",
        "        vals = line.strip().split(\"\\t\")\n",
        "        if prev_key is None or prev_key == vals[0]:\n",
        "            prev_key = vals[0]\n",
        "            counter += 1\n",
        "            continue\n",
        "        sys.stdout.write(\"{}\\t{}\\n\".format(prev_key, counter))\n",
        "        prev_key = vals[0]\n",
        "        counter = 1\n",
        "    if prev_key is not None:\n",
        "        sys.stdout.write(\"{}\\t{}\\n\".format(prev_key, counter))\n",
        "            \n",
        "            \n",
        "if __name__ == \"__main__\":\n",
        "    mapper()"
      ]
    },
    {
      "cell_type": "markdown",
      "metadata": {
        "id": "GJ_GgwlEkttZ"
      },
      "source": [
        "cat text.txt | python3 mapper.py | sort -k1,1 | python3 reducer.py"
      ]
    },
    {
      "cell_type": "markdown",
      "metadata": {
        "id": "6A0KN6lXkttb"
      },
      "source": [
        "## Давайте посмотрим на разные форматы хранения данных\n",
        "\n",
        "### Тестовые форматы\n",
        "\n",
        "csv, tsv, txt"
      ]
    },
    {
      "cell_type": "code",
      "execution_count": 22,
      "metadata": {
        "colab": {
          "base_uri": "https://localhost:8080/",
          "height": 337
        },
        "id": "kUnpzmkdkttd",
        "outputId": "78d16ced-eb50-46b8-fd6f-1a0d4f3e945e"
      },
      "outputs": [
        {
          "output_type": "execute_result",
          "data": {
            "text/html": [
              "\n",
              "  <div id=\"df-7899d435-64fa-48f9-bc5e-a0a5e07c915c\">\n",
              "    <div class=\"colab-df-container\">\n",
              "      <div>\n",
              "<style scoped>\n",
              "    .dataframe tbody tr th:only-of-type {\n",
              "        vertical-align: middle;\n",
              "    }\n",
              "\n",
              "    .dataframe tbody tr th {\n",
              "        vertical-align: top;\n",
              "    }\n",
              "\n",
              "    .dataframe thead th {\n",
              "        text-align: right;\n",
              "    }\n",
              "</style>\n",
              "<table border=\"1\" class=\"dataframe\">\n",
              "  <thead>\n",
              "    <tr style=\"text-align: right;\">\n",
              "      <th></th>\n",
              "      <th>title</th>\n",
              "      <th>score</th>\n",
              "      <th>id</th>\n",
              "      <th>url</th>\n",
              "      <th>comms_num</th>\n",
              "      <th>created</th>\n",
              "      <th>body</th>\n",
              "      <th>timestamp</th>\n",
              "    </tr>\n",
              "  </thead>\n",
              "  <tbody>\n",
              "    <tr>\n",
              "      <th>0</th>\n",
              "      <td>Health Canada approves AstraZeneca COVID-19 va...</td>\n",
              "      <td>7</td>\n",
              "      <td>lt74vw</td>\n",
              "      <td>https://www.canadaforums.ca/2021/02/health-can...</td>\n",
              "      <td>0</td>\n",
              "      <td>1.614400e+09</td>\n",
              "      <td>NaN</td>\n",
              "      <td>2021-02-27 06:33:45</td>\n",
              "    </tr>\n",
              "    <tr>\n",
              "      <th>1</th>\n",
              "      <td>COVID-19 in Canada: 'Vaccination passports' a ...</td>\n",
              "      <td>2</td>\n",
              "      <td>lsh0ij</td>\n",
              "      <td>https://www.canadaforums.ca/2021/02/covid-19-i...</td>\n",
              "      <td>1</td>\n",
              "      <td>1.614316e+09</td>\n",
              "      <td>NaN</td>\n",
              "      <td>2021-02-26 07:11:07</td>\n",
              "    </tr>\n",
              "    <tr>\n",
              "      <th>2</th>\n",
              "      <td>Coronavirus variants could fuel Canada's third...</td>\n",
              "      <td>6</td>\n",
              "      <td>lohlle</td>\n",
              "      <td>https://www.canadaforums.ca/2021/02/coronaviru...</td>\n",
              "      <td>0</td>\n",
              "      <td>1.613887e+09</td>\n",
              "      <td>NaN</td>\n",
              "      <td>2021-02-21 07:50:08</td>\n",
              "    </tr>\n",
              "    <tr>\n",
              "      <th>3</th>\n",
              "      <td>Canadian government to extend COVID-19 emergen...</td>\n",
              "      <td>1</td>\n",
              "      <td>lnptv8</td>\n",
              "      <td>https://www.canadaforums.ca/2021/02/canadian-g...</td>\n",
              "      <td>0</td>\n",
              "      <td>1.613796e+09</td>\n",
              "      <td>NaN</td>\n",
              "      <td>2021-02-20 06:35:13</td>\n",
              "    </tr>\n",
              "    <tr>\n",
              "      <th>4</th>\n",
              "      <td>Canada: Pfizer is 'extremely committed' to mee...</td>\n",
              "      <td>6</td>\n",
              "      <td>lkslm6</td>\n",
              "      <td>https://www.canadaforums.ca/2021/02/canada-pfi...</td>\n",
              "      <td>0</td>\n",
              "      <td>1.613468e+09</td>\n",
              "      <td>NaN</td>\n",
              "      <td>2021-02-16 11:36:28</td>\n",
              "    </tr>\n",
              "  </tbody>\n",
              "</table>\n",
              "</div>\n",
              "      <button class=\"colab-df-convert\" onclick=\"convertToInteractive('df-7899d435-64fa-48f9-bc5e-a0a5e07c915c')\"\n",
              "              title=\"Convert this dataframe to an interactive table.\"\n",
              "              style=\"display:none;\">\n",
              "        \n",
              "  <svg xmlns=\"http://www.w3.org/2000/svg\" height=\"24px\"viewBox=\"0 0 24 24\"\n",
              "       width=\"24px\">\n",
              "    <path d=\"M0 0h24v24H0V0z\" fill=\"none\"/>\n",
              "    <path d=\"M18.56 5.44l.94 2.06.94-2.06 2.06-.94-2.06-.94-.94-2.06-.94 2.06-2.06.94zm-11 1L8.5 8.5l.94-2.06 2.06-.94-2.06-.94L8.5 2.5l-.94 2.06-2.06.94zm10 10l.94 2.06.94-2.06 2.06-.94-2.06-.94-.94-2.06-.94 2.06-2.06.94z\"/><path d=\"M17.41 7.96l-1.37-1.37c-.4-.4-.92-.59-1.43-.59-.52 0-1.04.2-1.43.59L10.3 9.45l-7.72 7.72c-.78.78-.78 2.05 0 2.83L4 21.41c.39.39.9.59 1.41.59.51 0 1.02-.2 1.41-.59l7.78-7.78 2.81-2.81c.8-.78.8-2.07 0-2.86zM5.41 20L4 18.59l7.72-7.72 1.47 1.35L5.41 20z\"/>\n",
              "  </svg>\n",
              "      </button>\n",
              "      \n",
              "  <style>\n",
              "    .colab-df-container {\n",
              "      display:flex;\n",
              "      flex-wrap:wrap;\n",
              "      gap: 12px;\n",
              "    }\n",
              "\n",
              "    .colab-df-convert {\n",
              "      background-color: #E8F0FE;\n",
              "      border: none;\n",
              "      border-radius: 50%;\n",
              "      cursor: pointer;\n",
              "      display: none;\n",
              "      fill: #1967D2;\n",
              "      height: 32px;\n",
              "      padding: 0 0 0 0;\n",
              "      width: 32px;\n",
              "    }\n",
              "\n",
              "    .colab-df-convert:hover {\n",
              "      background-color: #E2EBFA;\n",
              "      box-shadow: 0px 1px 2px rgba(60, 64, 67, 0.3), 0px 1px 3px 1px rgba(60, 64, 67, 0.15);\n",
              "      fill: #174EA6;\n",
              "    }\n",
              "\n",
              "    [theme=dark] .colab-df-convert {\n",
              "      background-color: #3B4455;\n",
              "      fill: #D2E3FC;\n",
              "    }\n",
              "\n",
              "    [theme=dark] .colab-df-convert:hover {\n",
              "      background-color: #434B5C;\n",
              "      box-shadow: 0px 1px 3px 1px rgba(0, 0, 0, 0.15);\n",
              "      filter: drop-shadow(0px 1px 2px rgba(0, 0, 0, 0.3));\n",
              "      fill: #FFFFFF;\n",
              "    }\n",
              "  </style>\n",
              "\n",
              "      <script>\n",
              "        const buttonEl =\n",
              "          document.querySelector('#df-7899d435-64fa-48f9-bc5e-a0a5e07c915c button.colab-df-convert');\n",
              "        buttonEl.style.display =\n",
              "          google.colab.kernel.accessAllowed ? 'block' : 'none';\n",
              "\n",
              "        async function convertToInteractive(key) {\n",
              "          const element = document.querySelector('#df-7899d435-64fa-48f9-bc5e-a0a5e07c915c');\n",
              "          const dataTable =\n",
              "            await google.colab.kernel.invokeFunction('convertToInteractive',\n",
              "                                                     [key], {});\n",
              "          if (!dataTable) return;\n",
              "\n",
              "          const docLinkHtml = 'Like what you see? Visit the ' +\n",
              "            '<a target=\"_blank\" href=https://colab.research.google.com/notebooks/data_table.ipynb>data table notebook</a>'\n",
              "            + ' to learn more about interactive tables.';\n",
              "          element.innerHTML = '';\n",
              "          dataTable['output_type'] = 'display_data';\n",
              "          await google.colab.output.renderOutput(dataTable, element);\n",
              "          const docLink = document.createElement('div');\n",
              "          docLink.innerHTML = docLinkHtml;\n",
              "          element.appendChild(docLink);\n",
              "        }\n",
              "      </script>\n",
              "    </div>\n",
              "  </div>\n",
              "  "
            ],
            "text/plain": [
              "                                               title  ...            timestamp\n",
              "0  Health Canada approves AstraZeneca COVID-19 va...  ...  2021-02-27 06:33:45\n",
              "1  COVID-19 in Canada: 'Vaccination passports' a ...  ...  2021-02-26 07:11:07\n",
              "2  Coronavirus variants could fuel Canada's third...  ...  2021-02-21 07:50:08\n",
              "3  Canadian government to extend COVID-19 emergen...  ...  2021-02-20 06:35:13\n",
              "4  Canada: Pfizer is 'extremely committed' to mee...  ...  2021-02-16 11:36:28\n",
              "\n",
              "[5 rows x 8 columns]"
            ]
          },
          "metadata": {},
          "execution_count": 22
        }
      ],
      "source": [
        "import pandas as pd\n",
        "\n",
        "tsv_sample = pd.read_csv(\"reddit_vm.tsv\", sep=\"\\t\")\n",
        "tsv_sample.head()"
      ]
    },
    {
      "cell_type": "markdown",
      "source": [
        "# Новый раздел"
      ],
      "metadata": {
        "id": "CWtm0LewlJwz"
      }
    },
    {
      "cell_type": "code",
      "source": [
        "from google.colab import drive\n",
        "drive.mount('/content/drive')"
      ],
      "metadata": {
        "colab": {
          "base_uri": "https://localhost:8080/"
        },
        "id": "SuzTiWyPlSgV",
        "outputId": "f44b6620-a90f-49bd-cf71-203681eb7cf7"
      },
      "execution_count": 23,
      "outputs": [
        {
          "output_type": "stream",
          "name": "stdout",
          "text": [
            "Drive already mounted at /content/drive; to attempt to forcibly remount, call drive.mount(\"/content/drive\", force_remount=True).\n"
          ]
        }
      ]
    },
    {
      "cell_type": "code",
      "execution_count": 24,
      "metadata": {
        "colab": {
          "base_uri": "https://localhost:8080/",
          "height": 337
        },
        "id": "bi5G2mmekttf",
        "outputId": "8053bc75-03c3-439c-f306-afd42ef68b0e"
      },
      "outputs": [
        {
          "output_type": "execute_result",
          "data": {
            "text/html": [
              "\n",
              "  <div id=\"df-57090837-a1a5-4a99-98db-de1cc7d8886b\">\n",
              "    <div class=\"colab-df-container\">\n",
              "      <div>\n",
              "<style scoped>\n",
              "    .dataframe tbody tr th:only-of-type {\n",
              "        vertical-align: middle;\n",
              "    }\n",
              "\n",
              "    .dataframe tbody tr th {\n",
              "        vertical-align: top;\n",
              "    }\n",
              "\n",
              "    .dataframe thead th {\n",
              "        text-align: right;\n",
              "    }\n",
              "</style>\n",
              "<table border=\"1\" class=\"dataframe\">\n",
              "  <thead>\n",
              "    <tr style=\"text-align: right;\">\n",
              "      <th></th>\n",
              "      <th>title</th>\n",
              "      <th>score</th>\n",
              "      <th>id</th>\n",
              "      <th>url</th>\n",
              "      <th>comms_num</th>\n",
              "      <th>created</th>\n",
              "      <th>body</th>\n",
              "      <th>timestamp</th>\n",
              "    </tr>\n",
              "  </thead>\n",
              "  <tbody>\n",
              "    <tr>\n",
              "      <th>0</th>\n",
              "      <td>Health Canada approves AstraZeneca COVID-19 va...</td>\n",
              "      <td>7</td>\n",
              "      <td>lt74vw</td>\n",
              "      <td>https://www.canadaforums.ca/2021/02/health-can...</td>\n",
              "      <td>0</td>\n",
              "      <td>1.614400e+09</td>\n",
              "      <td>NaN</td>\n",
              "      <td>2021-02-27 06:33:45</td>\n",
              "    </tr>\n",
              "    <tr>\n",
              "      <th>1</th>\n",
              "      <td>COVID-19 in Canada: 'Vaccination passports' a ...</td>\n",
              "      <td>2</td>\n",
              "      <td>lsh0ij</td>\n",
              "      <td>https://www.canadaforums.ca/2021/02/covid-19-i...</td>\n",
              "      <td>1</td>\n",
              "      <td>1.614316e+09</td>\n",
              "      <td>NaN</td>\n",
              "      <td>2021-02-26 07:11:07</td>\n",
              "    </tr>\n",
              "    <tr>\n",
              "      <th>2</th>\n",
              "      <td>Coronavirus variants could fuel Canada's third...</td>\n",
              "      <td>6</td>\n",
              "      <td>lohlle</td>\n",
              "      <td>https://www.canadaforums.ca/2021/02/coronaviru...</td>\n",
              "      <td>0</td>\n",
              "      <td>1.613887e+09</td>\n",
              "      <td>NaN</td>\n",
              "      <td>2021-02-21 07:50:08</td>\n",
              "    </tr>\n",
              "    <tr>\n",
              "      <th>3</th>\n",
              "      <td>Canadian government to extend COVID-19 emergen...</td>\n",
              "      <td>1</td>\n",
              "      <td>lnptv8</td>\n",
              "      <td>https://www.canadaforums.ca/2021/02/canadian-g...</td>\n",
              "      <td>0</td>\n",
              "      <td>1.613796e+09</td>\n",
              "      <td>NaN</td>\n",
              "      <td>2021-02-20 06:35:13</td>\n",
              "    </tr>\n",
              "    <tr>\n",
              "      <th>4</th>\n",
              "      <td>Canada: Pfizer is 'extremely committed' to mee...</td>\n",
              "      <td>6</td>\n",
              "      <td>lkslm6</td>\n",
              "      <td>https://www.canadaforums.ca/2021/02/canada-pfi...</td>\n",
              "      <td>0</td>\n",
              "      <td>1.613468e+09</td>\n",
              "      <td>NaN</td>\n",
              "      <td>2021-02-16 11:36:28</td>\n",
              "    </tr>\n",
              "  </tbody>\n",
              "</table>\n",
              "</div>\n",
              "      <button class=\"colab-df-convert\" onclick=\"convertToInteractive('df-57090837-a1a5-4a99-98db-de1cc7d8886b')\"\n",
              "              title=\"Convert this dataframe to an interactive table.\"\n",
              "              style=\"display:none;\">\n",
              "        \n",
              "  <svg xmlns=\"http://www.w3.org/2000/svg\" height=\"24px\"viewBox=\"0 0 24 24\"\n",
              "       width=\"24px\">\n",
              "    <path d=\"M0 0h24v24H0V0z\" fill=\"none\"/>\n",
              "    <path d=\"M18.56 5.44l.94 2.06.94-2.06 2.06-.94-2.06-.94-.94-2.06-.94 2.06-2.06.94zm-11 1L8.5 8.5l.94-2.06 2.06-.94-2.06-.94L8.5 2.5l-.94 2.06-2.06.94zm10 10l.94 2.06.94-2.06 2.06-.94-2.06-.94-.94-2.06-.94 2.06-2.06.94z\"/><path d=\"M17.41 7.96l-1.37-1.37c-.4-.4-.92-.59-1.43-.59-.52 0-1.04.2-1.43.59L10.3 9.45l-7.72 7.72c-.78.78-.78 2.05 0 2.83L4 21.41c.39.39.9.59 1.41.59.51 0 1.02-.2 1.41-.59l7.78-7.78 2.81-2.81c.8-.78.8-2.07 0-2.86zM5.41 20L4 18.59l7.72-7.72 1.47 1.35L5.41 20z\"/>\n",
              "  </svg>\n",
              "      </button>\n",
              "      \n",
              "  <style>\n",
              "    .colab-df-container {\n",
              "      display:flex;\n",
              "      flex-wrap:wrap;\n",
              "      gap: 12px;\n",
              "    }\n",
              "\n",
              "    .colab-df-convert {\n",
              "      background-color: #E8F0FE;\n",
              "      border: none;\n",
              "      border-radius: 50%;\n",
              "      cursor: pointer;\n",
              "      display: none;\n",
              "      fill: #1967D2;\n",
              "      height: 32px;\n",
              "      padding: 0 0 0 0;\n",
              "      width: 32px;\n",
              "    }\n",
              "\n",
              "    .colab-df-convert:hover {\n",
              "      background-color: #E2EBFA;\n",
              "      box-shadow: 0px 1px 2px rgba(60, 64, 67, 0.3), 0px 1px 3px 1px rgba(60, 64, 67, 0.15);\n",
              "      fill: #174EA6;\n",
              "    }\n",
              "\n",
              "    [theme=dark] .colab-df-convert {\n",
              "      background-color: #3B4455;\n",
              "      fill: #D2E3FC;\n",
              "    }\n",
              "\n",
              "    [theme=dark] .colab-df-convert:hover {\n",
              "      background-color: #434B5C;\n",
              "      box-shadow: 0px 1px 3px 1px rgba(0, 0, 0, 0.15);\n",
              "      filter: drop-shadow(0px 1px 2px rgba(0, 0, 0, 0.3));\n",
              "      fill: #FFFFFF;\n",
              "    }\n",
              "  </style>\n",
              "\n",
              "      <script>\n",
              "        const buttonEl =\n",
              "          document.querySelector('#df-57090837-a1a5-4a99-98db-de1cc7d8886b button.colab-df-convert');\n",
              "        buttonEl.style.display =\n",
              "          google.colab.kernel.accessAllowed ? 'block' : 'none';\n",
              "\n",
              "        async function convertToInteractive(key) {\n",
              "          const element = document.querySelector('#df-57090837-a1a5-4a99-98db-de1cc7d8886b');\n",
              "          const dataTable =\n",
              "            await google.colab.kernel.invokeFunction('convertToInteractive',\n",
              "                                                     [key], {});\n",
              "          if (!dataTable) return;\n",
              "\n",
              "          const docLinkHtml = 'Like what you see? Visit the ' +\n",
              "            '<a target=\"_blank\" href=https://colab.research.google.com/notebooks/data_table.ipynb>data table notebook</a>'\n",
              "            + ' to learn more about interactive tables.';\n",
              "          element.innerHTML = '';\n",
              "          dataTable['output_type'] = 'display_data';\n",
              "          await google.colab.output.renderOutput(dataTable, element);\n",
              "          const docLink = document.createElement('div');\n",
              "          docLink.innerHTML = docLinkHtml;\n",
              "          element.appendChild(docLink);\n",
              "        }\n",
              "      </script>\n",
              "    </div>\n",
              "  </div>\n",
              "  "
            ],
            "text/plain": [
              "                                               title  ...            timestamp\n",
              "0  Health Canada approves AstraZeneca COVID-19 va...  ...  2021-02-27 06:33:45\n",
              "1  COVID-19 in Canada: 'Vaccination passports' a ...  ...  2021-02-26 07:11:07\n",
              "2  Coronavirus variants could fuel Canada's third...  ...  2021-02-21 07:50:08\n",
              "3  Canadian government to extend COVID-19 emergen...  ...  2021-02-20 06:35:13\n",
              "4  Canada: Pfizer is 'extremely committed' to mee...  ...  2021-02-16 11:36:28\n",
              "\n",
              "[5 rows x 8 columns]"
            ]
          },
          "metadata": {},
          "execution_count": 24
        }
      ],
      "source": [
        "csv_sample = pd.read_csv(\"reddit_vm.csv\")\n",
        "csv_sample.head()"
      ]
    },
    {
      "cell_type": "code",
      "execution_count": 25,
      "metadata": {
        "colab": {
          "base_uri": "https://localhost:8080/"
        },
        "id": "0fA5DA3Lktth",
        "outputId": "f5498e0f-7ec1-4573-c413-c771e2eaf0a7"
      },
      "outputs": [
        {
          "output_type": "stream",
          "name": "stdout",
          "text": [
            "<class 'pandas.core.frame.DataFrame'>\n",
            "RangeIndex: 1424 entries, 0 to 1423\n",
            "Data columns (total 8 columns):\n",
            " #   Column     Non-Null Count  Dtype  \n",
            "---  ------     --------------  -----  \n",
            " 0   title      1424 non-null   object \n",
            " 1   score      1424 non-null   int64  \n",
            " 2   id         1424 non-null   object \n",
            " 3   url        444 non-null    object \n",
            " 4   comms_num  1424 non-null   int64  \n",
            " 5   created    1424 non-null   float64\n",
            " 6   body       1059 non-null   object \n",
            " 7   timestamp  1424 non-null   object \n",
            "dtypes: float64(1), int64(2), object(5)\n",
            "memory usage: 89.1+ KB\n"
          ]
        }
      ],
      "source": [
        "csv_sample.info()"
      ]
    },
    {
      "cell_type": "code",
      "execution_count": 26,
      "metadata": {
        "id": "uNfPj8R2kttk"
      },
      "outputs": [],
      "source": [
        "#TODO\n",
        "# Адаптируйте маппер и редьюсер для чтения tsv файла"
      ]
    },
    {
      "cell_type": "markdown",
      "metadata": {
        "id": "y7JlvnMGkttm"
      },
      "source": [
        "### Бинарные форматы\n",
        "\n",
        "#### Protobuf\n",
        "\n",
        "https://developers.google.com/protocol-buffers/docs/pythontutorial"
      ]
    },
    {
      "cell_type": "code",
      "execution_count": 27,
      "metadata": {
        "id": "YIqUx-zRktto"
      },
      "outputs": [],
      "source": [
        "import reddit_pb2"
      ]
    },
    {
      "cell_type": "code",
      "execution_count": 28,
      "metadata": {
        "id": "vG6WfJctktto"
      },
      "outputs": [],
      "source": [
        "# Write example\n",
        "\n",
        "reddit_dataset = reddit_pb2.ReditData()\n",
        "\n",
        "for i in range(len(csv_sample)):\n",
        "    reddit_record = reddit_dataset.record.add()\n",
        "    reddit_record.title = csv_sample.loc[i, \"title\"]\n",
        "    reddit_record.score = csv_sample.loc[i, \"score\"]\n",
        "    reddit_record.id = csv_sample.loc[i, \"id\"]\n",
        "    \n",
        "    if str(csv_sample.loc[i, \"url\"]) != \"nan\":\n",
        "        reddit_record.url = csv_sample.loc[i, \"url\"]\n",
        "    reddit_record.comms_num = csv_sample.loc[i, \"comms_num\"]\n",
        "    reddit_record.created = csv_sample.loc[i, \"created\"]\n",
        "    \n",
        "    if str(csv_sample.loc[i, \"body\"]) != \"nan\":\n",
        "        reddit_record.body = csv_sample.loc[i, \"body\"]\n",
        "    reddit_record.ts = csv_sample.loc[i, \"timestamp\"]\n",
        "\n",
        "serialized = reddit_dataset.SerializeToString()\n",
        "with open(\"redit_result.pb\", \"wb\") as f:\n",
        "    f.write(serialized)"
      ]
    },
    {
      "cell_type": "code",
      "execution_count": 29,
      "metadata": {
        "colab": {
          "base_uri": "https://localhost:8080/"
        },
        "id": "-Jq5bYsakttq",
        "outputId": "75bf37ad-853c-4af5-a92e-60aadbaab7f7"
      },
      "outputs": [
        {
          "output_type": "execute_result",
          "data": {
            "text/plain": [
              "568572"
            ]
          },
          "metadata": {},
          "execution_count": 29
        }
      ],
      "source": [
        "# Read example\n",
        "with open(\"redit_result.pb\", \"rb\") as f:\n",
        "    serialized = f.read()\n",
        "\n",
        "reddit_dataset = reddit_pb2.ReditData()\n",
        "reddit_dataset.ParseFromString(serialized)"
      ]
    },
    {
      "cell_type": "code",
      "execution_count": 30,
      "metadata": {
        "id": "BzvBy98jktts"
      },
      "outputs": [],
      "source": [
        "# TODO Сделайте сохранение в сплиты размером по 500 записей\n",
        "# Посчитайте число записей с определенным скором на map-reduce"
      ]
    },
    {
      "cell_type": "markdown",
      "metadata": {
        "id": "UjWM0Du6kttt"
      },
      "source": [
        "### Avro"
      ]
    },
    {
      "cell_type": "code",
      "source": [
        "pip install pyspark\n"
      ],
      "metadata": {
        "colab": {
          "base_uri": "https://localhost:8080/"
        },
        "id": "TcLVe6k6spAI",
        "outputId": "550a172d-32fd-45bd-f290-fa1ba113a73a"
      },
      "execution_count": 31,
      "outputs": [
        {
          "output_type": "stream",
          "name": "stdout",
          "text": [
            "Requirement already satisfied: pyspark in /usr/local/lib/python3.7/dist-packages (3.2.0)\n",
            "Requirement already satisfied: py4j==0.10.9.2 in /usr/local/lib/python3.7/dist-packages (from pyspark) (0.10.9.2)\n"
          ]
        }
      ]
    },
    {
      "cell_type": "code",
      "source": [
        "!pip install fastavro"
      ],
      "metadata": {
        "colab": {
          "base_uri": "https://localhost:8080/"
        },
        "id": "Dp22F95Jl54F",
        "outputId": "a8467b34-9c73-4622-cf9f-c771c6de2d2b"
      },
      "execution_count": 32,
      "outputs": [
        {
          "output_type": "stream",
          "name": "stdout",
          "text": [
            "Requirement already satisfied: fastavro in /usr/local/lib/python3.7/dist-packages (1.4.8)\n"
          ]
        }
      ]
    },
    {
      "cell_type": "code",
      "execution_count": 33,
      "metadata": {
        "id": "i6YT-A_Ckttt"
      },
      "outputs": [],
      "source": [
        "import fastavro as avro"
      ]
    },
    {
      "cell_type": "code",
      "execution_count": 34,
      "metadata": {
        "id": "WYVcJ8oPkttu"
      },
      "outputs": [],
      "source": [
        "schema = {\n",
        "    'doc': 'Reddit dataset',\n",
        "    'name': 'reddit',\n",
        "    'namespace': 'teexamplest',\n",
        "    'type': 'record',\n",
        "    'fields': [\n",
        "        {'name': 'title', 'type': 'string'},\n",
        "        {'name': 'score', 'type': 'long'},\n",
        "        {'name': 'id', 'type': 'string'},\n",
        "        {'name': 'url', 'type': 'string', 'default': \"\"},\n",
        "        {'name': 'comms_num', 'type': 'long'},\n",
        "        {'name': 'created', 'type': 'float'},\n",
        "        {'name': 'body', 'type': 'string', 'default': \"\"},\n",
        "        {'name': 'ts', 'type': 'string'},\n",
        "    ],\n",
        "}"
      ]
    },
    {
      "cell_type": "code",
      "execution_count": 35,
      "metadata": {
        "id": "aK-f5cVZkttv"
      },
      "outputs": [],
      "source": [
        "records = []\n",
        "\n",
        "for i in range(len(csv_sample)):\n",
        "    record = {}\n",
        "    record[\"title\"] = csv_sample.loc[i, \"title\"]\n",
        "    record[\"score\"] = csv_sample.loc[i, \"score\"]\n",
        "    record[\"id\"] = csv_sample.loc[i, \"id\"]\n",
        "    \n",
        "    if str(csv_sample.loc[i, \"url\"]) != \"nan\":\n",
        "        record[\"url\"] = csv_sample.loc[i, \"url\"]\n",
        "    record[\"comms_num\"] = csv_sample.loc[i, \"comms_num\"]\n",
        "    record[\"created\"] = csv_sample.loc[i, \"created\"]\n",
        "    \n",
        "    if str(csv_sample.loc[i, \"body\"]) != \"nan\":\n",
        "        record[\"body\"] = csv_sample.loc[i, \"body\"]\n",
        "    record[\"ts\"] = csv_sample.loc[i, \"timestamp\"]\n",
        "    \n",
        "    records.append(record)\n",
        "\n",
        "with open('reddit.avro', 'wb') as out:\n",
        "    avro.writer(out, schema, records)"
      ]
    },
    {
      "cell_type": "code",
      "execution_count": 36,
      "metadata": {
        "colab": {
          "base_uri": "https://localhost:8080/"
        },
        "id": "_hijRptDkttw",
        "outputId": "62fc8783-5760-45d4-b952-06683167242f"
      },
      "outputs": [
        {
          "output_type": "stream",
          "name": "stdout",
          "text": [
            "1424\n"
          ]
        }
      ],
      "source": [
        "# Чтение\n",
        "cnt = 0\n",
        "with open('reddit.avro', 'rb') as fo:\n",
        "    reader = avro.reader(fo, reader_schema=schema)\n",
        "    for record in reader:\n",
        "        cnt += 1\n",
        "print(cnt)"
      ]
    },
    {
      "cell_type": "markdown",
      "metadata": {
        "id": "-wLvZNj_kttx"
      },
      "source": [
        "## Parquet"
      ]
    },
    {
      "cell_type": "code",
      "execution_count": 37,
      "metadata": {
        "id": "-ApFBwO8kttx"
      },
      "outputs": [],
      "source": [
        "import pyarrow.parquet as pq\n",
        "import pyarrow as pa"
      ]
    },
    {
      "cell_type": "code",
      "execution_count": 38,
      "metadata": {
        "id": "D2XMqIdikttx"
      },
      "outputs": [],
      "source": [
        "pq.write_table(pa.Table.from_pandas(csv_sample), 'reddit.parquet')"
      ]
    },
    {
      "cell_type": "code",
      "execution_count": 39,
      "metadata": {
        "colab": {
          "base_uri": "https://localhost:8080/",
          "height": 641
        },
        "id": "o7197DDmkttx",
        "outputId": "cd996635-e4dd-4c99-fd5f-74f0b2aab530"
      },
      "outputs": [
        {
          "output_type": "execute_result",
          "data": {
            "text/html": [
              "\n",
              "  <div id=\"df-a3e6b482-e04f-455e-ad43-b41b7bd66760\">\n",
              "    <div class=\"colab-df-container\">\n",
              "      <div>\n",
              "<style scoped>\n",
              "    .dataframe tbody tr th:only-of-type {\n",
              "        vertical-align: middle;\n",
              "    }\n",
              "\n",
              "    .dataframe tbody tr th {\n",
              "        vertical-align: top;\n",
              "    }\n",
              "\n",
              "    .dataframe thead th {\n",
              "        text-align: right;\n",
              "    }\n",
              "</style>\n",
              "<table border=\"1\" class=\"dataframe\">\n",
              "  <thead>\n",
              "    <tr style=\"text-align: right;\">\n",
              "      <th></th>\n",
              "      <th>title</th>\n",
              "      <th>score</th>\n",
              "      <th>id</th>\n",
              "      <th>url</th>\n",
              "      <th>comms_num</th>\n",
              "      <th>created</th>\n",
              "      <th>body</th>\n",
              "      <th>timestamp</th>\n",
              "    </tr>\n",
              "  </thead>\n",
              "  <tbody>\n",
              "    <tr>\n",
              "      <th>0</th>\n",
              "      <td>Health Canada approves AstraZeneca COVID-19 va...</td>\n",
              "      <td>7</td>\n",
              "      <td>lt74vw</td>\n",
              "      <td>https://www.canadaforums.ca/2021/02/health-can...</td>\n",
              "      <td>0</td>\n",
              "      <td>1.614400e+09</td>\n",
              "      <td>None</td>\n",
              "      <td>2021-02-27 06:33:45</td>\n",
              "    </tr>\n",
              "    <tr>\n",
              "      <th>1</th>\n",
              "      <td>COVID-19 in Canada: 'Vaccination passports' a ...</td>\n",
              "      <td>2</td>\n",
              "      <td>lsh0ij</td>\n",
              "      <td>https://www.canadaforums.ca/2021/02/covid-19-i...</td>\n",
              "      <td>1</td>\n",
              "      <td>1.614316e+09</td>\n",
              "      <td>None</td>\n",
              "      <td>2021-02-26 07:11:07</td>\n",
              "    </tr>\n",
              "    <tr>\n",
              "      <th>2</th>\n",
              "      <td>Coronavirus variants could fuel Canada's third...</td>\n",
              "      <td>6</td>\n",
              "      <td>lohlle</td>\n",
              "      <td>https://www.canadaforums.ca/2021/02/coronaviru...</td>\n",
              "      <td>0</td>\n",
              "      <td>1.613887e+09</td>\n",
              "      <td>None</td>\n",
              "      <td>2021-02-21 07:50:08</td>\n",
              "    </tr>\n",
              "    <tr>\n",
              "      <th>3</th>\n",
              "      <td>Canadian government to extend COVID-19 emergen...</td>\n",
              "      <td>1</td>\n",
              "      <td>lnptv8</td>\n",
              "      <td>https://www.canadaforums.ca/2021/02/canadian-g...</td>\n",
              "      <td>0</td>\n",
              "      <td>1.613796e+09</td>\n",
              "      <td>None</td>\n",
              "      <td>2021-02-20 06:35:13</td>\n",
              "    </tr>\n",
              "    <tr>\n",
              "      <th>4</th>\n",
              "      <td>Canada: Pfizer is 'extremely committed' to mee...</td>\n",
              "      <td>6</td>\n",
              "      <td>lkslm6</td>\n",
              "      <td>https://www.canadaforums.ca/2021/02/canada-pfi...</td>\n",
              "      <td>0</td>\n",
              "      <td>1.613468e+09</td>\n",
              "      <td>None</td>\n",
              "      <td>2021-02-16 11:36:28</td>\n",
              "    </tr>\n",
              "    <tr>\n",
              "      <th>...</th>\n",
              "      <td>...</td>\n",
              "      <td>...</td>\n",
              "      <td>...</td>\n",
              "      <td>...</td>\n",
              "      <td>...</td>\n",
              "      <td>...</td>\n",
              "      <td>...</td>\n",
              "      <td>...</td>\n",
              "    </tr>\n",
              "    <tr>\n",
              "      <th>1419</th>\n",
              "      <td>Comment</td>\n",
              "      <td>1</td>\n",
              "      <td>ejackaa</td>\n",
              "      <td>None</td>\n",
              "      <td>0</td>\n",
              "      <td>1.553486e+09</td>\n",
              "      <td>I didn't say thimerosal is mercury. I said thi...</td>\n",
              "      <td>2019-03-25 05:50:41</td>\n",
              "    </tr>\n",
              "    <tr>\n",
              "      <th>1420</th>\n",
              "      <td>Comment</td>\n",
              "      <td>2</td>\n",
              "      <td>ejacj98</td>\n",
              "      <td>None</td>\n",
              "      <td>0</td>\n",
              "      <td>1.553486e+09</td>\n",
              "      <td>The \"myth\" you're debunking is in regards to t...</td>\n",
              "      <td>2019-03-25 05:50:20</td>\n",
              "    </tr>\n",
              "    <tr>\n",
              "      <th>1421</th>\n",
              "      <td>Comment</td>\n",
              "      <td>2</td>\n",
              "      <td>ejabpdx</td>\n",
              "      <td>None</td>\n",
              "      <td>0</td>\n",
              "      <td>1.553485e+09</td>\n",
              "      <td>You'll have to read it again because I didn't ...</td>\n",
              "      <td>2019-03-25 05:40:03</td>\n",
              "    </tr>\n",
              "    <tr>\n",
              "      <th>1422</th>\n",
              "      <td>Comment</td>\n",
              "      <td>0</td>\n",
              "      <td>ej9xuaf</td>\n",
              "      <td>None</td>\n",
              "      <td>0</td>\n",
              "      <td>1.553475e+09</td>\n",
              "      <td>What do you mean by \"your OP\". I am fairly new...</td>\n",
              "      <td>2019-03-25 02:45:21</td>\n",
              "    </tr>\n",
              "    <tr>\n",
              "      <th>1423</th>\n",
              "      <td>Comment</td>\n",
              "      <td>1</td>\n",
              "      <td>ej9x2qr</td>\n",
              "      <td>None</td>\n",
              "      <td>0</td>\n",
              "      <td>1.553474e+09</td>\n",
              "      <td>When they say there's no thimerasol, they mean...</td>\n",
              "      <td>2019-03-25 02:35:47</td>\n",
              "    </tr>\n",
              "  </tbody>\n",
              "</table>\n",
              "<p>1424 rows × 8 columns</p>\n",
              "</div>\n",
              "      <button class=\"colab-df-convert\" onclick=\"convertToInteractive('df-a3e6b482-e04f-455e-ad43-b41b7bd66760')\"\n",
              "              title=\"Convert this dataframe to an interactive table.\"\n",
              "              style=\"display:none;\">\n",
              "        \n",
              "  <svg xmlns=\"http://www.w3.org/2000/svg\" height=\"24px\"viewBox=\"0 0 24 24\"\n",
              "       width=\"24px\">\n",
              "    <path d=\"M0 0h24v24H0V0z\" fill=\"none\"/>\n",
              "    <path d=\"M18.56 5.44l.94 2.06.94-2.06 2.06-.94-2.06-.94-.94-2.06-.94 2.06-2.06.94zm-11 1L8.5 8.5l.94-2.06 2.06-.94-2.06-.94L8.5 2.5l-.94 2.06-2.06.94zm10 10l.94 2.06.94-2.06 2.06-.94-2.06-.94-.94-2.06-.94 2.06-2.06.94z\"/><path d=\"M17.41 7.96l-1.37-1.37c-.4-.4-.92-.59-1.43-.59-.52 0-1.04.2-1.43.59L10.3 9.45l-7.72 7.72c-.78.78-.78 2.05 0 2.83L4 21.41c.39.39.9.59 1.41.59.51 0 1.02-.2 1.41-.59l7.78-7.78 2.81-2.81c.8-.78.8-2.07 0-2.86zM5.41 20L4 18.59l7.72-7.72 1.47 1.35L5.41 20z\"/>\n",
              "  </svg>\n",
              "      </button>\n",
              "      \n",
              "  <style>\n",
              "    .colab-df-container {\n",
              "      display:flex;\n",
              "      flex-wrap:wrap;\n",
              "      gap: 12px;\n",
              "    }\n",
              "\n",
              "    .colab-df-convert {\n",
              "      background-color: #E8F0FE;\n",
              "      border: none;\n",
              "      border-radius: 50%;\n",
              "      cursor: pointer;\n",
              "      display: none;\n",
              "      fill: #1967D2;\n",
              "      height: 32px;\n",
              "      padding: 0 0 0 0;\n",
              "      width: 32px;\n",
              "    }\n",
              "\n",
              "    .colab-df-convert:hover {\n",
              "      background-color: #E2EBFA;\n",
              "      box-shadow: 0px 1px 2px rgba(60, 64, 67, 0.3), 0px 1px 3px 1px rgba(60, 64, 67, 0.15);\n",
              "      fill: #174EA6;\n",
              "    }\n",
              "\n",
              "    [theme=dark] .colab-df-convert {\n",
              "      background-color: #3B4455;\n",
              "      fill: #D2E3FC;\n",
              "    }\n",
              "\n",
              "    [theme=dark] .colab-df-convert:hover {\n",
              "      background-color: #434B5C;\n",
              "      box-shadow: 0px 1px 3px 1px rgba(0, 0, 0, 0.15);\n",
              "      filter: drop-shadow(0px 1px 2px rgba(0, 0, 0, 0.3));\n",
              "      fill: #FFFFFF;\n",
              "    }\n",
              "  </style>\n",
              "\n",
              "      <script>\n",
              "        const buttonEl =\n",
              "          document.querySelector('#df-a3e6b482-e04f-455e-ad43-b41b7bd66760 button.colab-df-convert');\n",
              "        buttonEl.style.display =\n",
              "          google.colab.kernel.accessAllowed ? 'block' : 'none';\n",
              "\n",
              "        async function convertToInteractive(key) {\n",
              "          const element = document.querySelector('#df-a3e6b482-e04f-455e-ad43-b41b7bd66760');\n",
              "          const dataTable =\n",
              "            await google.colab.kernel.invokeFunction('convertToInteractive',\n",
              "                                                     [key], {});\n",
              "          if (!dataTable) return;\n",
              "\n",
              "          const docLinkHtml = 'Like what you see? Visit the ' +\n",
              "            '<a target=\"_blank\" href=https://colab.research.google.com/notebooks/data_table.ipynb>data table notebook</a>'\n",
              "            + ' to learn more about interactive tables.';\n",
              "          element.innerHTML = '';\n",
              "          dataTable['output_type'] = 'display_data';\n",
              "          await google.colab.output.renderOutput(dataTable, element);\n",
              "          const docLink = document.createElement('div');\n",
              "          docLink.innerHTML = docLinkHtml;\n",
              "          element.appendChild(docLink);\n",
              "        }\n",
              "      </script>\n",
              "    </div>\n",
              "  </div>\n",
              "  "
            ],
            "text/plain": [
              "                                                  title  ...            timestamp\n",
              "0     Health Canada approves AstraZeneca COVID-19 va...  ...  2021-02-27 06:33:45\n",
              "1     COVID-19 in Canada: 'Vaccination passports' a ...  ...  2021-02-26 07:11:07\n",
              "2     Coronavirus variants could fuel Canada's third...  ...  2021-02-21 07:50:08\n",
              "3     Canadian government to extend COVID-19 emergen...  ...  2021-02-20 06:35:13\n",
              "4     Canada: Pfizer is 'extremely committed' to mee...  ...  2021-02-16 11:36:28\n",
              "...                                                 ...  ...                  ...\n",
              "1419                                            Comment  ...  2019-03-25 05:50:41\n",
              "1420                                            Comment  ...  2019-03-25 05:50:20\n",
              "1421                                            Comment  ...  2019-03-25 05:40:03\n",
              "1422                                            Comment  ...  2019-03-25 02:45:21\n",
              "1423                                            Comment  ...  2019-03-25 02:35:47\n",
              "\n",
              "[1424 rows x 8 columns]"
            ]
          },
          "metadata": {},
          "execution_count": 39
        }
      ],
      "source": [
        "reddit = pq.read_table('reddit.parquet')\n",
        "reddit.to_pandas()"
      ]
    }
  ],
  "metadata": {
    "kernelspec": {
      "display_name": "Python 3",
      "language": "python",
      "name": "python3"
    },
    "language_info": {
      "codemirror_mode": {
        "name": "ipython",
        "version": 3
      },
      "file_extension": ".py",
      "mimetype": "text/x-python",
      "name": "python",
      "nbconvert_exporter": "python",
      "pygments_lexer": "ipython3",
      "version": "3.8.5"
    },
    "colab": {
      "name": "Lecture01.ipynb",
      "provenance": [],
      "include_colab_link": true
    }
  },
  "nbformat": 4,
  "nbformat_minor": 0
}